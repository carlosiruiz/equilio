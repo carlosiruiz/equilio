{
 "cells": [
  {
   "cell_type": "code",
   "execution_count": 1,
   "metadata": {
    "ExecuteTime": {
     "end_time": "2021-05-31T13:40:12.939974Z",
     "start_time": "2021-05-31T13:40:12.313055Z"
    }
   },
   "outputs": [],
   "source": [
    "import pandas as pd\n",
    "from pandasql import sqldf\n",
    "from sqlalchemy import create_engine"
   ]
  },
  {
   "cell_type": "code",
   "execution_count": 35,
   "metadata": {
    "ExecuteTime": {
     "end_time": "2021-05-31T12:32:01.585638Z",
     "start_time": "2021-05-31T12:32:01.566320Z"
    }
   },
   "outputs": [],
   "source": [
    "ques=pd.read_csv('SEAF_Questions  - Sheet1.csv', index_col='Question_id')\n",
    "jes= pd.read_csv('Org Survey questions-Jessica View2.xlsx - Org Survey questions-Jessica Vi.csv',)"
   ]
  },
  {
   "cell_type": "code",
   "execution_count": null,
   "metadata": {},
   "outputs": [],
   "source": []
  },
  {
   "cell_type": "code",
   "execution_count": 36,
   "metadata": {
    "ExecuteTime": {
     "end_time": "2021-05-31T12:32:02.715738Z",
     "start_time": "2021-05-31T12:32:02.701905Z"
    },
    "scrolled": true
   },
   "outputs": [
    {
     "data": {
      "text/html": [
       "<div>\n",
       "<style scoped>\n",
       "    .dataframe tbody tr th:only-of-type {\n",
       "        vertical-align: middle;\n",
       "    }\n",
       "\n",
       "    .dataframe tbody tr th {\n",
       "        vertical-align: top;\n",
       "    }\n",
       "\n",
       "    .dataframe thead th {\n",
       "        text-align: right;\n",
       "    }\n",
       "</style>\n",
       "<table border=\"1\" class=\"dataframe\">\n",
       "  <thead>\n",
       "    <tr style=\"text-align: right;\">\n",
       "      <th></th>\n",
       "      <th>Vector</th>\n",
       "      <th>Parameter</th>\n",
       "      <th>Par</th>\n",
       "      <th>Survey_Question</th>\n",
       "      <th>Question_type</th>\n",
       "      <th>Response_type</th>\n",
       "      <th>score_value</th>\n",
       "      <th>Survey Category</th>\n",
       "    </tr>\n",
       "    <tr>\n",
       "      <th>Question_id</th>\n",
       "      <th></th>\n",
       "      <th></th>\n",
       "      <th></th>\n",
       "      <th></th>\n",
       "      <th></th>\n",
       "      <th></th>\n",
       "      <th></th>\n",
       "      <th></th>\n",
       "    </tr>\n",
       "  </thead>\n",
       "  <tbody>\n",
       "    <tr>\n",
       "      <th>1</th>\n",
       "      <td>Pay Equity</td>\n",
       "      <td>Approach to Advance Pay Equity</td>\n",
       "      <td>Commitment</td>\n",
       "      <td>Does the company have a formal commitment or p...</td>\n",
       "      <td>Dichotomous</td>\n",
       "      <td>Yes/No</td>\n",
       "      <td>NaN</td>\n",
       "      <td>NaN</td>\n",
       "    </tr>\n",
       "    <tr>\n",
       "      <th>2</th>\n",
       "      <td>Pay Equity</td>\n",
       "      <td>Approach to Advance Pay Equity</td>\n",
       "      <td>Communication</td>\n",
       "      <td>Does the company communicate its approach to p...</td>\n",
       "      <td>Dichotomous</td>\n",
       "      <td>Yes/No</td>\n",
       "      <td>NaN</td>\n",
       "      <td>NaN</td>\n",
       "    </tr>\n",
       "    <tr>\n",
       "      <th>3</th>\n",
       "      <td>Pay Equity</td>\n",
       "      <td>Approach to Advance Pay Equity</td>\n",
       "      <td>Implementation</td>\n",
       "      <td>Does the company assess other financial benefi...</td>\n",
       "      <td>Dichotomous</td>\n",
       "      <td>Yes/No</td>\n",
       "      <td>NaN</td>\n",
       "      <td>NaN</td>\n",
       "    </tr>\n",
       "    <tr>\n",
       "      <th>4</th>\n",
       "      <td>Pay Equity</td>\n",
       "      <td>Approach to Advance Pay Equity</td>\n",
       "      <td>Implementation</td>\n",
       "      <td>Does the company have a process to identify an...</td>\n",
       "      <td>Dichotomous</td>\n",
       "      <td>Yes/No</td>\n",
       "      <td>NaN</td>\n",
       "      <td>NaN</td>\n",
       "    </tr>\n",
       "    <tr>\n",
       "      <th>5</th>\n",
       "      <td>Pay Equity</td>\n",
       "      <td>Approach to Advance Pay Equity</td>\n",
       "      <td>Implementation</td>\n",
       "      <td>For a company that offers an employee stock op...</td>\n",
       "      <td>Dichotomous</td>\n",
       "      <td>Yes/No</td>\n",
       "      <td>NaN</td>\n",
       "      <td>NaN</td>\n",
       "    </tr>\n",
       "  </tbody>\n",
       "</table>\n",
       "</div>"
      ],
      "text/plain": [
       "                 Vector                       Parameter             Par  \\\n",
       "Question_id                                                               \n",
       "1            Pay Equity  Approach to Advance Pay Equity      Commitment   \n",
       "2            Pay Equity  Approach to Advance Pay Equity   Communication   \n",
       "3            Pay Equity  Approach to Advance Pay Equity  Implementation   \n",
       "4            Pay Equity  Approach to Advance Pay Equity  Implementation   \n",
       "5            Pay Equity  Approach to Advance Pay Equity  Implementation   \n",
       "\n",
       "                                               Survey_Question Question_type  \\\n",
       "Question_id                                                                    \n",
       "1            Does the company have a formal commitment or p...   Dichotomous   \n",
       "2            Does the company communicate its approach to p...   Dichotomous   \n",
       "3            Does the company assess other financial benefi...   Dichotomous   \n",
       "4            Does the company have a process to identify an...   Dichotomous   \n",
       "5            For a company that offers an employee stock op...   Dichotomous   \n",
       "\n",
       "            Response_type score_value  Survey Category  \n",
       "Question_id                                             \n",
       "1                  Yes/No         NaN              NaN  \n",
       "2                  Yes/No         NaN              NaN  \n",
       "3                  Yes/No         NaN              NaN  \n",
       "4                  Yes/No         NaN              NaN  \n",
       "5                  Yes/No         NaN              NaN  "
      ]
     },
     "execution_count": 36,
     "metadata": {},
     "output_type": "execute_result"
    }
   ],
   "source": [
    "ques.head(5)"
   ]
  },
  {
   "cell_type": "code",
   "execution_count": 37,
   "metadata": {
    "ExecuteTime": {
     "end_time": "2021-05-31T12:32:04.641258Z",
     "start_time": "2021-05-31T12:32:04.626276Z"
    },
    "scrolled": true
   },
   "outputs": [
    {
     "data": {
      "text/html": [
       "<div>\n",
       "<style scoped>\n",
       "    .dataframe tbody tr th:only-of-type {\n",
       "        vertical-align: middle;\n",
       "    }\n",
       "\n",
       "    .dataframe tbody tr th {\n",
       "        vertical-align: top;\n",
       "    }\n",
       "\n",
       "    .dataframe thead th {\n",
       "        text-align: right;\n",
       "    }\n",
       "</style>\n",
       "<table border=\"1\" class=\"dataframe\">\n",
       "  <thead>\n",
       "    <tr style=\"text-align: right;\">\n",
       "      <th></th>\n",
       "      <th>Survey Questions</th>\n",
       "      <th>SEAF Vectors</th>\n",
       "      <th>Unnamed: 2</th>\n",
       "      <th>Master Framework</th>\n",
       "      <th>indicator (from Master Framework)</th>\n",
       "      <th>What Works</th>\n",
       "      <th>Trigger for Recommending What Works</th>\n",
       "      <th>SEAF Themes</th>\n",
       "      <th>Type</th>\n",
       "      <th>Vector</th>\n",
       "      <th>Parameter</th>\n",
       "      <th>Par</th>\n",
       "      <th>SEAF Scoring parameter</th>\n",
       "    </tr>\n",
       "  </thead>\n",
       "  <tbody>\n",
       "    <tr>\n",
       "      <th>0</th>\n",
       "      <td>Does the company have a formal commitment or p...</td>\n",
       "      <td>Pay equity</td>\n",
       "      <td>NaN</td>\n",
       "      <td>WRK_WAGEGP_T_1039,WRK_WAGEGP_F_159,WRK_EQREMU_...</td>\n",
       "      <td>% gender wage gap, Female portion of gender wa...</td>\n",
       "      <td>Conduct salary gap analysis to determine if th...</td>\n",
       "      <td>No</td>\n",
       "      <td>Pay</td>\n",
       "      <td>Policy</td>\n",
       "      <td>NaN</td>\n",
       "      <td>NaN</td>\n",
       "      <td>NaN</td>\n",
       "      <td>Yes/no response contributing to sub-parameter ...</td>\n",
       "    </tr>\n",
       "    <tr>\n",
       "      <th>1</th>\n",
       "      <td>Does the company assess other financial benefi...</td>\n",
       "      <td>Pay equity</td>\n",
       "      <td>NaN</td>\n",
       "      <td>NaN</td>\n",
       "      <td>NaN</td>\n",
       "      <td>Conduct equity and impact analysis of benefits...</td>\n",
       "      <td>No</td>\n",
       "      <td>Benefits,Retirement</td>\n",
       "      <td>Monitoring &amp; Evaluation</td>\n",
       "      <td>NaN</td>\n",
       "      <td>NaN</td>\n",
       "      <td>NaN</td>\n",
       "      <td>Yes/no response contributing to sub-parameter ...</td>\n",
       "    </tr>\n",
       "  </tbody>\n",
       "</table>\n",
       "</div>"
      ],
      "text/plain": [
       "                                    Survey Questions SEAF Vectors  Unnamed: 2  \\\n",
       "0  Does the company have a formal commitment or p...  Pay equity          NaN   \n",
       "1  Does the company assess other financial benefi...  Pay equity          NaN   \n",
       "\n",
       "                                    Master Framework  \\\n",
       "0  WRK_WAGEGP_T_1039,WRK_WAGEGP_F_159,WRK_EQREMU_...   \n",
       "1                                                NaN   \n",
       "\n",
       "                   indicator (from Master Framework)  \\\n",
       "0  % gender wage gap, Female portion of gender wa...   \n",
       "1                                                NaN   \n",
       "\n",
       "                                          What Works  \\\n",
       "0  Conduct salary gap analysis to determine if th...   \n",
       "1  Conduct equity and impact analysis of benefits...   \n",
       "\n",
       "  Trigger for Recommending What Works          SEAF Themes  \\\n",
       "0                                  No                  Pay   \n",
       "1                                  No  Benefits,Retirement   \n",
       "\n",
       "                      Type  Vector  Parameter  Par  \\\n",
       "0                   Policy     NaN        NaN  NaN   \n",
       "1  Monitoring & Evaluation     NaN        NaN  NaN   \n",
       "\n",
       "                              SEAF Scoring parameter  \n",
       "0  Yes/no response contributing to sub-parameter ...  \n",
       "1  Yes/no response contributing to sub-parameter ...  "
      ]
     },
     "execution_count": 37,
     "metadata": {},
     "output_type": "execute_result"
    }
   ],
   "source": [
    "jes.head(2)"
   ]
  },
  {
   "cell_type": "code",
   "execution_count": 38,
   "metadata": {
    "ExecuteTime": {
     "end_time": "2021-05-31T12:32:06.294732Z",
     "start_time": "2021-05-31T12:32:06.290228Z"
    }
   },
   "outputs": [],
   "source": [
    "jes.columns=[['Survey_Question', 'SEAF_Vectors', 'Unnamed:_2', 'Master_Framework',\n",
    "       'indicator_from_Master_Framework_', 'What_Works',\n",
    "       'Trigger_for_Recommending_What_Works', 'SEAF_Themes', 'Type', 'Vector',\n",
    "       'Parameter', 'Par', 'SEAF_Scoring_parameter']]"
   ]
  },
  {
   "cell_type": "code",
   "execution_count": 2,
   "metadata": {
    "ExecuteTime": {
     "end_time": "2021-05-31T13:40:16.950514Z",
     "start_time": "2021-05-31T13:40:16.933654Z"
    }
   },
   "outputs": [],
   "source": [
    "cnx= create_engine('sqlite:///questions.db').connect()"
   ]
  },
  {
   "cell_type": "code",
   "execution_count": 3,
   "metadata": {
    "ExecuteTime": {
     "end_time": "2021-05-31T13:40:18.615304Z",
     "start_time": "2021-05-31T13:40:18.599208Z"
    }
   },
   "outputs": [],
   "source": [
    "df = pd.read_sql_table('vectorized', cnx)"
   ]
  },
  {
   "cell_type": "code",
   "execution_count": 4,
   "metadata": {
    "ExecuteTime": {
     "end_time": "2021-05-31T13:40:19.822516Z",
     "start_time": "2021-05-31T13:40:19.813047Z"
    }
   },
   "outputs": [],
   "source": [
    "df.to_csv('vectors.csv')"
   ]
  },
  {
   "cell_type": "code",
   "execution_count": null,
   "metadata": {},
   "outputs": [],
   "source": []
  }
 ],
 "metadata": {
  "kernelspec": {
   "display_name": "Python 3",
   "language": "python",
   "name": "python3"
  },
  "language_info": {
   "codemirror_mode": {
    "name": "ipython",
    "version": 3
   },
   "file_extension": ".py",
   "mimetype": "text/x-python",
   "name": "python",
   "nbconvert_exporter": "python",
   "pygments_lexer": "ipython3",
   "version": "3.8.3"
  }
 },
 "nbformat": 4,
 "nbformat_minor": 4
}
