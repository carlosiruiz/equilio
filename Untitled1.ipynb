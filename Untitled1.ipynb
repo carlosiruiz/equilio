{
 "cells": [
  {
   "cell_type": "code",
   "execution_count": null,
   "metadata": {
    "ExecuteTime": {
     "start_time": "2021-08-01T20:18:12.604Z"
    }
   },
   "outputs": [],
   "source": [
    "import pandas as pd\n",
    "from pandasql import sqldf\n",
    "from sqlalchemy import create_engine"
   ]
  },
  {
   "cell_type": "code",
   "execution_count": null,
   "metadata": {
    "ExecuteTime": {
     "start_time": "2021-08-01T20:18:12.606Z"
    }
   },
   "outputs": [],
   "source": [
    "ques=pd.read_csv('SEAF_Questions  - Sheet1.csv', index_col='Question_id')\n",
    "jes= pd.read_csv('Org Survey questions-Jessica View2.xlsx - Org Survey questions-Jessica Vi.csv',)"
   ]
  },
  {
   "cell_type": "code",
   "execution_count": null,
   "metadata": {},
   "outputs": [],
   "source": []
  },
  {
   "cell_type": "code",
   "execution_count": null,
   "metadata": {
    "ExecuteTime": {
     "start_time": "2021-08-01T20:18:12.609Z"
    },
    "scrolled": true
   },
   "outputs": [],
   "source": [
    "ques.head(5)"
   ]
  },
  {
   "cell_type": "code",
   "execution_count": null,
   "metadata": {
    "ExecuteTime": {
     "start_time": "2021-08-01T20:18:12.611Z"
    },
    "scrolled": true
   },
   "outputs": [],
   "source": [
    "jes.head(2)"
   ]
  },
  {
   "cell_type": "code",
   "execution_count": null,
   "metadata": {
    "ExecuteTime": {
     "start_time": "2021-08-01T20:18:12.612Z"
    }
   },
   "outputs": [],
   "source": [
    "jes.columns=[['Survey_Question', 'SEAF_Vectors', 'Unnamed:_2', 'Master_Framework',\n",
    "       'indicator_from_Master_Framework_', 'What_Works',\n",
    "       'Trigger_for_Recommending_What_Works', 'SEAF_Themes', 'Type', 'Vector',\n",
    "       'Parameter', 'Par', 'SEAF_Scoring_parameter']]"
   ]
  },
  {
   "cell_type": "code",
   "execution_count": null,
   "metadata": {
    "ExecuteTime": {
     "start_time": "2021-08-01T20:18:12.614Z"
    }
   },
   "outputs": [],
   "source": [
    "cnx= create_engine('sqlite:///questions.db').connect()"
   ]
  },
  {
   "cell_type": "code",
   "execution_count": null,
   "metadata": {
    "ExecuteTime": {
     "start_time": "2021-08-01T20:18:12.615Z"
    }
   },
   "outputs": [],
   "source": [
    "df = pd.read_sql_table('vectorized', cnx)"
   ]
  },
  {
   "cell_type": "code",
   "execution_count": null,
   "metadata": {
    "ExecuteTime": {
     "start_time": "2021-08-01T20:18:12.616Z"
    }
   },
   "outputs": [],
   "source": [
    "df.to_csv('vectors.csv')"
   ]
  },
  {
   "cell_type": "code",
   "execution_count": null,
   "metadata": {
    "ExecuteTime": {
     "start_time": "2021-08-01T20:18:12.618Z"
    }
   },
   "outputs": [],
   "source": [
    "df=pd.read_csv('Survey_Pay_equity.csv')"
   ]
  },
  {
   "cell_type": "code",
   "execution_count": null,
   "metadata": {
    "ExecuteTime": {
     "start_time": "2021-08-01T20:18:12.622Z"
    }
   },
   "outputs": [],
   "source": [
    "df"
   ]
  },
  {
   "cell_type": "code",
   "execution_count": null,
   "metadata": {},
   "outputs": [],
   "source": []
  }
 ],
 "metadata": {
  "kernelspec": {
   "display_name": "Python 3",
   "language": "python",
   "name": "python3"
  },
  "language_info": {
   "codemirror_mode": {
    "name": "ipython",
    "version": 3
   },
   "file_extension": ".py",
   "mimetype": "text/x-python",
   "name": "python",
   "nbconvert_exporter": "python",
   "pygments_lexer": "ipython3",
   "version": "3.8.3"
  }
 },
 "nbformat": 4,
 "nbformat_minor": 4
}
