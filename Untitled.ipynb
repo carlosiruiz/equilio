{
 "cells": [
  {
   "cell_type": "code",
   "execution_count": 8,
   "metadata": {
    "ExecuteTime": {
     "end_time": "2021-04-21T17:58:21.187696Z",
     "start_time": "2021-04-21T17:58:21.183943Z"
    }
   },
   "outputs": [],
   "source": [
    "import pandas as pd \n",
    "import selenium \n",
    "from selenium import webdriver \n",
    "from selenium.webdriver.support.ui import WebDriverWait"
   ]
  },
  {
   "cell_type": "code",
   "execution_count": 9,
   "metadata": {
    "ExecuteTime": {
     "end_time": "2021-04-21T17:58:27.825234Z",
     "start_time": "2021-04-21T17:58:21.672373Z"
    }
   },
   "outputs": [],
   "source": [
    "driver = webdriver.Chrome(\"/Applications/chromedriver\")"
   ]
  },
  {
   "cell_type": "code",
   "execution_count": 3,
   "metadata": {
    "ExecuteTime": {
     "end_time": "2021-04-20T20:10:13.735963Z",
     "start_time": "2021-04-20T20:10:09.602064Z"
    }
   },
   "outputs": [],
   "source": [
    "url= 'https://www.rankmyinternship.ca/companies'\n",
    "driver.get(url)\n",
    "driver.find_element_by_xpath('//*[@id=\"edit-keyword-wrapper\"]/div/div[2]/div/a[1]').click()\n",
    "driver.find_element_by_xpath('//*[@id=\"node-18508\"]/div/div/div[1]/div[2]/a').click()"
   ]
  },
  {
   "cell_type": "code",
   "execution_count": 10,
   "metadata": {
    "ExecuteTime": {
     "end_time": "2021-04-21T17:58:39.436261Z",
     "start_time": "2021-04-21T17:58:27.828272Z"
    }
   },
   "outputs": [
    {
     "ename": "WebDriverException",
     "evalue": "Message: unknown error: net::ERR_NAME_NOT_RESOLVED\n  (Session info: chrome=90.0.4430.85)\n",
     "output_type": "error",
     "traceback": [
      "\u001b[0;31m---------------------------------------------------------------------------\u001b[0m",
      "\u001b[0;31mWebDriverException\u001b[0m                        Traceback (most recent call last)",
      "\u001b[0;32m<ipython-input-10-30ca064eb1f0>\u001b[0m in \u001b[0;36m<module>\u001b[0;34m\u001b[0m\n\u001b[1;32m      1\u001b[0m \u001b[0murl\u001b[0m\u001b[0;34m=\u001b[0m \u001b[0;34m'https://www.rankmyinternship.ca/companies'\u001b[0m\u001b[0;34m\u001b[0m\u001b[0;34m\u001b[0m\u001b[0m\n\u001b[0;32m----> 2\u001b[0;31m \u001b[0mdriver\u001b[0m\u001b[0;34m.\u001b[0m\u001b[0mget\u001b[0m\u001b[0;34m(\u001b[0m\u001b[0murl\u001b[0m\u001b[0;34m)\u001b[0m\u001b[0;34m\u001b[0m\u001b[0;34m\u001b[0m\u001b[0m\n\u001b[0m\u001b[1;32m      3\u001b[0m \u001b[0;32mfor\u001b[0m \u001b[0mi\u001b[0m \u001b[0;32min\u001b[0m \u001b[0mrange\u001b[0m\u001b[0;34m(\u001b[0m\u001b[0;36m1\u001b[0m\u001b[0;34m,\u001b[0m\u001b[0;36m27\u001b[0m\u001b[0;34m)\u001b[0m\u001b[0;34m:\u001b[0m\u001b[0;34m\u001b[0m\u001b[0;34m\u001b[0m\u001b[0m\n\u001b[1;32m      4\u001b[0m     \u001b[0me\u001b[0m \u001b[0;34m=\u001b[0m \u001b[0;34m'//*[@id=\"edit-keyword-wrapper\"]/div/div[2]/div/a['\u001b[0m\u001b[0;34m+\u001b[0m\u001b[0mstr\u001b[0m\u001b[0;34m(\u001b[0m\u001b[0mi\u001b[0m\u001b[0;34m)\u001b[0m\u001b[0;34m+\u001b[0m\u001b[0;34m']'\u001b[0m\u001b[0;34m\u001b[0m\u001b[0;34m\u001b[0m\u001b[0m\n\u001b[1;32m      5\u001b[0m     \u001b[0mdriver\u001b[0m\u001b[0;34m.\u001b[0m\u001b[0mfind_element_by_xpath\u001b[0m\u001b[0;34m(\u001b[0m\u001b[0me\u001b[0m\u001b[0;34m)\u001b[0m\u001b[0;34m.\u001b[0m\u001b[0mclick\u001b[0m\u001b[0;34m(\u001b[0m\u001b[0;34m)\u001b[0m\u001b[0;34m\u001b[0m\u001b[0;34m\u001b[0m\u001b[0m\n",
      "\u001b[0;32m/Library/Frameworks/Python.framework/Versions/3.8/lib/python3.8/site-packages/selenium/webdriver/remote/webdriver.py\u001b[0m in \u001b[0;36mget\u001b[0;34m(self, url)\u001b[0m\n\u001b[1;32m    331\u001b[0m         \u001b[0mLoads\u001b[0m \u001b[0ma\u001b[0m \u001b[0mweb\u001b[0m \u001b[0mpage\u001b[0m \u001b[0;32min\u001b[0m \u001b[0mthe\u001b[0m \u001b[0mcurrent\u001b[0m \u001b[0mbrowser\u001b[0m \u001b[0msession\u001b[0m\u001b[0;34m.\u001b[0m\u001b[0;34m\u001b[0m\u001b[0;34m\u001b[0m\u001b[0m\n\u001b[1;32m    332\u001b[0m         \"\"\"\n\u001b[0;32m--> 333\u001b[0;31m         \u001b[0mself\u001b[0m\u001b[0;34m.\u001b[0m\u001b[0mexecute\u001b[0m\u001b[0;34m(\u001b[0m\u001b[0mCommand\u001b[0m\u001b[0;34m.\u001b[0m\u001b[0mGET\u001b[0m\u001b[0;34m,\u001b[0m \u001b[0;34m{\u001b[0m\u001b[0;34m'url'\u001b[0m\u001b[0;34m:\u001b[0m \u001b[0murl\u001b[0m\u001b[0;34m}\u001b[0m\u001b[0;34m)\u001b[0m\u001b[0;34m\u001b[0m\u001b[0;34m\u001b[0m\u001b[0m\n\u001b[0m\u001b[1;32m    334\u001b[0m \u001b[0;34m\u001b[0m\u001b[0m\n\u001b[1;32m    335\u001b[0m     \u001b[0;34m@\u001b[0m\u001b[0mproperty\u001b[0m\u001b[0;34m\u001b[0m\u001b[0;34m\u001b[0m\u001b[0m\n",
      "\u001b[0;32m/Library/Frameworks/Python.framework/Versions/3.8/lib/python3.8/site-packages/selenium/webdriver/remote/webdriver.py\u001b[0m in \u001b[0;36mexecute\u001b[0;34m(self, driver_command, params)\u001b[0m\n\u001b[1;32m    319\u001b[0m         \u001b[0mresponse\u001b[0m \u001b[0;34m=\u001b[0m \u001b[0mself\u001b[0m\u001b[0;34m.\u001b[0m\u001b[0mcommand_executor\u001b[0m\u001b[0;34m.\u001b[0m\u001b[0mexecute\u001b[0m\u001b[0;34m(\u001b[0m\u001b[0mdriver_command\u001b[0m\u001b[0;34m,\u001b[0m \u001b[0mparams\u001b[0m\u001b[0;34m)\u001b[0m\u001b[0;34m\u001b[0m\u001b[0;34m\u001b[0m\u001b[0m\n\u001b[1;32m    320\u001b[0m         \u001b[0;32mif\u001b[0m \u001b[0mresponse\u001b[0m\u001b[0;34m:\u001b[0m\u001b[0;34m\u001b[0m\u001b[0;34m\u001b[0m\u001b[0m\n\u001b[0;32m--> 321\u001b[0;31m             \u001b[0mself\u001b[0m\u001b[0;34m.\u001b[0m\u001b[0merror_handler\u001b[0m\u001b[0;34m.\u001b[0m\u001b[0mcheck_response\u001b[0m\u001b[0;34m(\u001b[0m\u001b[0mresponse\u001b[0m\u001b[0;34m)\u001b[0m\u001b[0;34m\u001b[0m\u001b[0;34m\u001b[0m\u001b[0m\n\u001b[0m\u001b[1;32m    322\u001b[0m             response['value'] = self._unwrap_value(\n\u001b[1;32m    323\u001b[0m                 response.get('value', None))\n",
      "\u001b[0;32m/Library/Frameworks/Python.framework/Versions/3.8/lib/python3.8/site-packages/selenium/webdriver/remote/errorhandler.py\u001b[0m in \u001b[0;36mcheck_response\u001b[0;34m(self, response)\u001b[0m\n\u001b[1;32m    240\u001b[0m                 \u001b[0malert_text\u001b[0m \u001b[0;34m=\u001b[0m \u001b[0mvalue\u001b[0m\u001b[0;34m[\u001b[0m\u001b[0;34m'alert'\u001b[0m\u001b[0;34m]\u001b[0m\u001b[0;34m.\u001b[0m\u001b[0mget\u001b[0m\u001b[0;34m(\u001b[0m\u001b[0;34m'text'\u001b[0m\u001b[0;34m)\u001b[0m\u001b[0;34m\u001b[0m\u001b[0;34m\u001b[0m\u001b[0m\n\u001b[1;32m    241\u001b[0m             \u001b[0;32mraise\u001b[0m \u001b[0mexception_class\u001b[0m\u001b[0;34m(\u001b[0m\u001b[0mmessage\u001b[0m\u001b[0;34m,\u001b[0m \u001b[0mscreen\u001b[0m\u001b[0;34m,\u001b[0m \u001b[0mstacktrace\u001b[0m\u001b[0;34m,\u001b[0m \u001b[0malert_text\u001b[0m\u001b[0;34m)\u001b[0m\u001b[0;34m\u001b[0m\u001b[0;34m\u001b[0m\u001b[0m\n\u001b[0;32m--> 242\u001b[0;31m         \u001b[0;32mraise\u001b[0m \u001b[0mexception_class\u001b[0m\u001b[0;34m(\u001b[0m\u001b[0mmessage\u001b[0m\u001b[0;34m,\u001b[0m \u001b[0mscreen\u001b[0m\u001b[0;34m,\u001b[0m \u001b[0mstacktrace\u001b[0m\u001b[0;34m)\u001b[0m\u001b[0;34m\u001b[0m\u001b[0;34m\u001b[0m\u001b[0m\n\u001b[0m\u001b[1;32m    243\u001b[0m \u001b[0;34m\u001b[0m\u001b[0m\n\u001b[1;32m    244\u001b[0m     \u001b[0;32mdef\u001b[0m \u001b[0m_value_or_default\u001b[0m\u001b[0;34m(\u001b[0m\u001b[0mself\u001b[0m\u001b[0;34m,\u001b[0m \u001b[0mobj\u001b[0m\u001b[0;34m,\u001b[0m \u001b[0mkey\u001b[0m\u001b[0;34m,\u001b[0m \u001b[0mdefault\u001b[0m\u001b[0;34m)\u001b[0m\u001b[0;34m:\u001b[0m\u001b[0;34m\u001b[0m\u001b[0;34m\u001b[0m\u001b[0m\n",
      "\u001b[0;31mWebDriverException\u001b[0m: Message: unknown error: net::ERR_NAME_NOT_RESOLVED\n  (Session info: chrome=90.0.4430.85)\n"
     ]
    }
   ],
   "source": [
    "url= 'https://www.rankmyinternship.ca/companies'\n",
    "driver.get(url)\n",
    "for i in range(1,27):\n",
    "    e = '//*[@id=\"edit-keyword-wrapper\"]/div/div[2]/div/a['+str(i)+']'\n",
    "    driver.find_element_by_xpath(e).click()\n",
    "    driver.implicitly_wait(10)\n",
    "    driver.navigate().back()"
   ]
  },
  {
   "cell_type": "code",
   "execution_count": 4,
   "metadata": {
    "ExecuteTime": {
     "end_time": "2021-04-20T20:10:13.739862Z",
     "start_time": "2021-04-20T20:10:13.737909Z"
    }
   },
   "outputs": [],
   "source": [
    "# Selecting reviews.\n",
    "# //*[@id=\"node-18508\"]/div/div/div[1]/div[2]/a\n",
    "# //*[@id=\"node-18585\"]/div/div/div[1]/div[2]/a\n",
    "\n",
    "#selector //*[@id=\"edit-keyword-wrapper\"]"
   ]
  },
  {
   "cell_type": "code",
   "execution_count": null,
   "metadata": {},
   "outputs": [],
   "source": [
    "<div class=\"alphabets\">\n",
    "\t<a class=\"alpha upper dtooltip\" title=\"\" href=\"#\" data-original-title=\"a\">a</a><a class=\"alpha upper dtooltip\" title=\"\" href=\"#\" data-original-title=\"b\">b</a><a class=\"alpha upper dtooltip\" title=\"\" href=\"#\" data-original-title=\"c\">c</a><a class=\"alpha upper dtooltip\" title=\"\" href=\"#\" data-original-title=\"d\">d</a><a class=\"alpha upper dtooltip\" title=\"\" href=\"#\" data-original-title=\"e\">e</a><a class=\"alpha upper dtooltip\" title=\"\" href=\"#\" data-original-title=\"f\">f</a><a class=\"alpha upper dtooltip\" title=\"\" href=\"#\" data-original-title=\"g\">g</a><a class=\"alpha upper dtooltip\" title=\"\" href=\"#\" data-original-title=\"h\">h</a><a class=\"alpha upper dtooltip\" title=\"\" href=\"#\" data-original-title=\"i\">i</a><a class=\"alpha upper dtooltip\" title=\"\" href=\"#\" data-original-title=\"j\">j</a><a class=\"alpha upper dtooltip\" title=\"\" href=\"#\" data-original-title=\"k\">k</a><a class=\"alpha upper dtooltip\" title=\"\" href=\"#\" data-original-title=\"l\">l</a><a class=\"alpha upper dtooltip\" title=\"\" href=\"#\" data-original-title=\"m\">m</a><a class=\"alpha upper dtooltip\" title=\"\" href=\"#\" data-original-title=\"n\">n</a><a class=\"alpha upper dtooltip\" title=\"\" href=\"#\" data-original-title=\"o\">o</a><a class=\"alpha upper dtooltip\" title=\"\" href=\"#\" data-original-title=\"p\">p</a><a class=\"alpha upper dtooltip\" title=\"\" href=\"#\" data-original-title=\"q\">q</a><a class=\"alpha upper dtooltip\" title=\"\" href=\"#\" data-original-title=\"r\">r</a><a class=\"alpha upper dtooltip\" title=\"\" href=\"#\" data-original-title=\"s\">s</a><a class=\"alpha upper dtooltip\" title=\"\" href=\"#\" data-original-title=\"t\">t</a><a class=\"alpha upper dtooltip\" title=\"\" href=\"#\" data-original-title=\"u\">u</a><a class=\"alpha upper dtooltip\" title=\"\" href=\"#\" data-original-title=\"v\">v</a><a class=\"alpha upper dtooltip\" title=\"\" href=\"#\" data-original-title=\"w\">w</a><a class=\"alpha upper dtooltip\" title=\"\" href=\"#\" data-original-title=\"x\">x</a><a class=\"alpha upper dtooltip\" title=\"\" href=\"#\" data-original-title=\"y\">y</a><a class=\"alpha upper dtooltip\" title=\"\" href=\"#\" data-original-title=\"z\">z</a></div>"
   ]
  },
  {
   "cell_type": "code",
   "execution_count": null,
   "metadata": {},
   "outputs": [],
   "source": [
    "//*[@id=\"edit-keyword-wrapper\"]/div/div[2]/div\n",
    "\n",
    "//*[@id=\"edit-keyword-wrapper\"]/div/div[2]/div/a[26]"
   ]
  }
 ],
 "metadata": {
  "kernelspec": {
   "display_name": "Python 3",
   "language": "python",
   "name": "python3"
  },
  "language_info": {
   "codemirror_mode": {
    "name": "ipython",
    "version": 3
   },
   "file_extension": ".py",
   "mimetype": "text/x-python",
   "name": "python",
   "nbconvert_exporter": "python",
   "pygments_lexer": "ipython3",
   "version": "3.8.3"
  }
 },
 "nbformat": 4,
 "nbformat_minor": 4
}
