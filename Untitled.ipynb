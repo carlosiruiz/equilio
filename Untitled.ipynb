{
 "cells": [
  {
   "cell_type": "code",
   "execution_count": 1,
   "metadata": {
    "ExecuteTime": {
     "end_time": "2021-04-20T20:10:06.380097Z",
     "start_time": "2021-04-20T20:10:05.812245Z"
    }
   },
   "outputs": [],
   "source": [
    "import pandas as pd \n",
    "import selenium \n",
    "from selenium import webdriver "
   ]
  },
  {
   "cell_type": "code",
   "execution_count": 2,
   "metadata": {
    "ExecuteTime": {
     "end_time": "2021-04-20T20:10:09.593469Z",
     "start_time": "2021-04-20T20:10:06.382029Z"
    }
   },
   "outputs": [],
   "source": [
    "driver = webdriver.Chrome(\"/Applications/chromedriver\")"
   ]
  },
  {
   "cell_type": "code",
   "execution_count": 3,
   "metadata": {
    "ExecuteTime": {
     "end_time": "2021-04-20T20:10:13.735963Z",
     "start_time": "2021-04-20T20:10:09.602064Z"
    }
   },
   "outputs": [],
   "source": [
    "url= 'https://www.rankmyinternship.ca/companies'\n",
    "driver.get(url)\n",
    "driver.find_element_by_xpath('//*[@id=\"edit-keyword-wrapper\"]/div/div[2]/div/a[1]').click()\n",
    "driver.find_element_by_xpath('//*[@id=\"node-18508\"]/div/div/div[1]/div[2]/a').click()"
   ]
  },
  {
   "cell_type": "code",
   "execution_count": 4,
   "metadata": {
    "ExecuteTime": {
     "end_time": "2021-04-20T20:10:13.739862Z",
     "start_time": "2021-04-20T20:10:13.737909Z"
    }
   },
   "outputs": [],
   "source": [
    "# Selecting reviews.\n",
    "# //*[@id=\"node-18508\"]/div/div/div[1]/div[2]/a\n",
    "# //*[@id=\"node-18585\"]/div/div/div[1]/div[2]/a"
   ]
  },
  {
   "cell_type": "code",
   "execution_count": 5,
   "metadata": {
    "ExecuteTime": {
     "end_time": "2021-04-20T20:10:13.920133Z",
     "start_time": "2021-04-20T20:10:13.742363Z"
    }
   },
   "outputs": [
    {
     "ename": "NameError",
     "evalue": "name 'updatee' is not defined",
     "output_type": "error",
     "traceback": [
      "\u001b[0;31m---------------------------------------------------------------------------\u001b[0m",
      "\u001b[0;31mNameError\u001b[0m                                 Traceback (most recent call last)",
      "\u001b[0;32m<ipython-input-5-c5031f6bf5ca>\u001b[0m in \u001b[0;36m<module>\u001b[0;34m\u001b[0m\n\u001b[0;32m----> 1\u001b[0;31m \u001b[0mupdatee\u001b[0m\u001b[0;34m\u001b[0m\u001b[0;34m\u001b[0m\u001b[0m\n\u001b[0m\u001b[1;32m      2\u001b[0m \u001b[0;34m\u001b[0m\u001b[0m\n",
      "\u001b[0;31mNameError\u001b[0m: name 'updatee' is not defined"
     ]
    }
   ],
   "source": [
    "updatee\n",
    "\n"
   ]
  },
  {
   "cell_type": "code",
   "execution_count": null,
   "metadata": {},
   "outputs": [],
   "source": []
  }
 ],
 "metadata": {
  "kernelspec": {
   "display_name": "Python 3",
   "language": "python",
   "name": "python3"
  },
  "language_info": {
   "codemirror_mode": {
    "name": "ipython",
    "version": 3
   },
   "file_extension": ".py",
   "mimetype": "text/x-python",
   "name": "python",
   "nbconvert_exporter": "python",
   "pygments_lexer": "ipython3",
   "version": "3.8.3"
  }
 },
 "nbformat": 4,
 "nbformat_minor": 4
}
