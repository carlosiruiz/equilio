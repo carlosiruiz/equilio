{
 "cells": [
  {
   "cell_type": "code",
   "execution_count": 4,
   "metadata": {
    "ExecuteTime": {
     "end_time": "2021-05-05T22:46:13.383196Z",
     "start_time": "2021-05-05T22:46:13.380081Z"
    }
   },
   "outputs": [],
   "source": [
    "import pandas as pd \n",
    "import selenium \n",
    "from selenium import webdriver \n",
    "from selenium.webdriver.support.ui import WebDriverWait"
   ]
  },
  {
   "cell_type": "code",
   "execution_count": 5,
   "metadata": {
    "ExecuteTime": {
     "end_time": "2021-05-05T22:46:19.034181Z",
     "start_time": "2021-05-05T22:46:13.549915Z"
    }
   },
   "outputs": [],
   "source": [
    "driver = webdriver.Chrome(\"/Applications/chromedriver\")"
   ]
  },
  {
   "cell_type": "code",
   "execution_count": 6,
   "metadata": {
    "ExecuteTime": {
     "end_time": "2021-05-05T22:46:53.585333Z",
     "start_time": "2021-05-05T22:46:38.852544Z"
    }
   },
   "outputs": [],
   "source": [
    "url= 'https://www.rankmyinternship.ca/companies'\n",
    "driver.get(url)"
   ]
  },
  {
   "cell_type": "code",
   "execution_count": null,
   "metadata": {
    "ExecuteTime": {
     "start_time": "2021-05-05T22:46:54.948Z"
    }
   },
   "outputs": [],
   "source": [
    "driver.find_element_by_xpath('//*[@id=\"edit-keyword-wrapper\"]/div/div[2]/div/a[1]').click()\n",
    "driver.find_element_by_xpath('//*[@id=\"node-18508\"]/div/div/div[1]/div[2]/a').click()"
   ]
  },
  {
   "cell_type": "code",
   "execution_count": null,
   "metadata": {
    "ExecuteTime": {
     "end_time": "2021-05-05T22:45:17.958373Z",
     "start_time": "2021-05-05T22:45:16.474Z"
    }
   },
   "outputs": [],
   "source": [
    "url= 'https://www.rankmyinternship.ca/companies'\n",
    "driver.get(url)\n",
    "for i in range(1,27):\n",
    "    e = '//*[@id=\"edit-keyword-wrapper\"]/div/div[2]/div/a['+str(i)+']'\n",
    "    driver.find_element_by_xpath(e).click()\n",
    "    driver.implicitly_wait(10)\n",
    "    driver.back()\n",
    "    driver.implicitly_wait(10)"
   ]
  },
  {
   "cell_type": "code",
   "execution_count": null,
   "metadata": {
    "ExecuteTime": {
     "end_time": "2021-05-05T22:45:17.959813Z",
     "start_time": "2021-05-05T22:45:16.476Z"
    }
   },
   "outputs": [],
   "source": [
    "# Selecting reviews.\n",
    "# //*[@id=\"node-18508\"]/div/div/div[1]/div[2]/a\n",
    "# //*[@id=\"node-18585\"]/div/div/div[1]/div[2]/a\n",
    "\n",
    "#selector //*[@id=\"edit-keyword-wrapper\"]"
   ]
  },
  {
   "cell_type": "code",
   "execution_count": null,
   "metadata": {
    "ExecuteTime": {
     "end_time": "2021-05-05T22:45:17.961009Z",
     "start_time": "2021-05-05T22:45:16.477Z"
    }
   },
   "outputs": [],
   "source": [
    "<div class=\"alphabets\">\n",
    "\t<a class=\"alpha upper dtooltip\" title=\"\" href=\"#\" data-original-title=\"a\">a</a><a class=\"alpha upper dtooltip\" title=\"\" href=\"#\" data-original-title=\"b\">b</a><a class=\"alpha upper dtooltip\" title=\"\" href=\"#\" data-original-title=\"c\">c</a><a class=\"alpha upper dtooltip\" title=\"\" href=\"#\" data-original-title=\"d\">d</a><a class=\"alpha upper dtooltip\" title=\"\" href=\"#\" data-original-title=\"e\">e</a><a class=\"alpha upper dtooltip\" title=\"\" href=\"#\" data-original-title=\"f\">f</a><a class=\"alpha upper dtooltip\" title=\"\" href=\"#\" data-original-title=\"g\">g</a><a class=\"alpha upper dtooltip\" title=\"\" href=\"#\" data-original-title=\"h\">h</a><a class=\"alpha upper dtooltip\" title=\"\" href=\"#\" data-original-title=\"i\">i</a><a class=\"alpha upper dtooltip\" title=\"\" href=\"#\" data-original-title=\"j\">j</a><a class=\"alpha upper dtooltip\" title=\"\" href=\"#\" data-original-title=\"k\">k</a><a class=\"alpha upper dtooltip\" title=\"\" href=\"#\" data-original-title=\"l\">l</a><a class=\"alpha upper dtooltip\" title=\"\" href=\"#\" data-original-title=\"m\">m</a><a class=\"alpha upper dtooltip\" title=\"\" href=\"#\" data-original-title=\"n\">n</a><a class=\"alpha upper dtooltip\" title=\"\" href=\"#\" data-original-title=\"o\">o</a><a class=\"alpha upper dtooltip\" title=\"\" href=\"#\" data-original-title=\"p\">p</a><a class=\"alpha upper dtooltip\" title=\"\" href=\"#\" data-original-title=\"q\">q</a><a class=\"alpha upper dtooltip\" title=\"\" href=\"#\" data-original-title=\"r\">r</a><a class=\"alpha upper dtooltip\" title=\"\" href=\"#\" data-original-title=\"s\">s</a><a class=\"alpha upper dtooltip\" title=\"\" href=\"#\" data-original-title=\"t\">t</a><a class=\"alpha upper dtooltip\" title=\"\" href=\"#\" data-original-title=\"u\">u</a><a class=\"alpha upper dtooltip\" title=\"\" href=\"#\" data-original-title=\"v\">v</a><a class=\"alpha upper dtooltip\" title=\"\" href=\"#\" data-original-title=\"w\">w</a><a class=\"alpha upper dtooltip\" title=\"\" href=\"#\" data-original-title=\"x\">x</a><a class=\"alpha upper dtooltip\" title=\"\" href=\"#\" data-original-title=\"y\">y</a><a class=\"alpha upper dtooltip\" title=\"\" href=\"#\" data-original-title=\"z\">z</a></div>"
   ]
  },
  {
   "cell_type": "code",
   "execution_count": 3,
   "metadata": {
    "ExecuteTime": {
     "end_time": "2021-05-05T22:45:38.853934Z",
     "start_time": "2021-05-05T22:45:38.849336Z"
    }
   },
   "outputs": [
    {
     "ename": "SyntaxError",
     "evalue": "invalid syntax (<ipython-input-3-b40bfeaad10a>, line 1)",
     "output_type": "error",
     "traceback": [
      "\u001b[0;36m  File \u001b[0;32m\"<ipython-input-3-b40bfeaad10a>\"\u001b[0;36m, line \u001b[0;32m1\u001b[0m\n\u001b[0;31m    //*[@id=\"edit-keyword-wrapper\"]/div/div[2]/div\u001b[0m\n\u001b[0m    ^\u001b[0m\n\u001b[0;31mSyntaxError\u001b[0m\u001b[0;31m:\u001b[0m invalid syntax\n"
     ]
    }
   ],
   "source": [
    "//*[@id=\"edit-keyword-wrapper\"]/div/div[2]/div\n",
    "\n",
    "//*[@id=\"edit-keyword-wrapper\"]/div/div[2]/div/a[26]"
   ]
  },
  {
   "cell_type": "code",
   "execution_count": null,
   "metadata": {},
   "outputs": [],
   "source": []
  },
  {
   "cell_type": "code",
   "execution_count": null,
   "metadata": {},
   "outputs": [],
   "source": []
  }
 ],
 "metadata": {
  "kernelspec": {
   "display_name": "Python 3",
   "language": "python",
   "name": "python3"
  },
  "language_info": {
   "codemirror_mode": {
    "name": "ipython",
    "version": 3
   },
   "file_extension": ".py",
   "mimetype": "text/x-python",
   "name": "python",
   "nbconvert_exporter": "python",
   "pygments_lexer": "ipython3",
   "version": "3.8.3"
  }
 },
 "nbformat": 4,
 "nbformat_minor": 4
}
