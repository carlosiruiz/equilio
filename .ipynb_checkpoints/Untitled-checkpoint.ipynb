{
 "cells": [
  {
   "cell_type": "code",
   "execution_count": null,
   "metadata": {
    "ExecuteTime": {
     "start_time": "2021-04-20T20:10:05.810Z"
    }
   },
   "outputs": [],
   "source": [
    "import pandas as pd \n",
    "import selenium \n",
    "from selenium import webdriver "
   ]
  },
  {
   "cell_type": "code",
   "execution_count": null,
   "metadata": {
    "ExecuteTime": {
     "start_time": "2021-04-20T20:10:05.812Z"
    }
   },
   "outputs": [],
   "source": [
    "driver = webdriver.Chrome(\"/Applications/chromedriver\")"
   ]
  },
  {
   "cell_type": "code",
   "execution_count": null,
   "metadata": {
    "ExecuteTime": {
     "start_time": "2021-04-20T20:10:05.813Z"
    }
   },
   "outputs": [],
   "source": [
    "url= 'https://www.rankmyinternship.ca/companies'\n",
    "driver.get(url)\n",
    "driver.find_element_by_xpath('//*[@id=\"edit-keyword-wrapper\"]/div/div[2]/div/a[1]').click()\n",
    "driver.find_element_by_xpath('//*[@id=\"node-18508\"]/div/div/div[1]/div[2]/a').click()"
   ]
  },
  {
   "cell_type": "code",
   "execution_count": null,
   "metadata": {
    "ExecuteTime": {
     "start_time": "2021-04-20T20:10:05.814Z"
    }
   },
   "outputs": [],
   "source": [
    "# Selecting reviews.\n",
    "# //*[@id=\"node-18508\"]/div/div/div[1]/div[2]/a\n",
    "# //*[@id=\"node-18585\"]/div/div/div[1]/div[2]/a"
   ]
  },
  {
   "cell_type": "code",
   "execution_count": null,
   "metadata": {
    "ExecuteTime": {
     "start_time": "2021-04-20T20:10:05.815Z"
    }
   },
   "outputs": [],
   "source": [
    "updatee\n",
    "\n"
   ]
  },
  {
   "cell_type": "code",
   "execution_count": null,
   "metadata": {},
   "outputs": [],
   "source": []
  }
 ],
 "metadata": {
  "kernelspec": {
   "display_name": "Python 3",
   "language": "python",
   "name": "python3"
  },
  "language_info": {
   "codemirror_mode": {
    "name": "ipython",
    "version": 3
   },
   "file_extension": ".py",
   "mimetype": "text/x-python",
   "name": "python",
   "nbconvert_exporter": "python",
   "pygments_lexer": "ipython3",
   "version": "3.8.3"
  }
 },
 "nbformat": 4,
 "nbformat_minor": 4
}
