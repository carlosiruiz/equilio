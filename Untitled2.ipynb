{
 "cells": [
  {
   "cell_type": "code",
   "execution_count": 1,
   "metadata": {
    "ExecuteTime": {
     "end_time": "2021-06-11T16:57:18.117342Z",
     "start_time": "2021-06-11T16:57:17.608585Z"
    }
   },
   "outputs": [],
   "source": [
    "import pandas as pd\n"
   ]
  },
  {
   "cell_type": "code",
   "execution_count": null,
   "metadata": {},
   "outputs": [],
   "source": [
    "# Apply a first round of text cleaning techniques\n",
    "import re\n",
    "import string\n",
    "\n",
    "def clean_text_round1(text):\n",
    "    '''Make text lowercase, remove text in square brackets, remove punctuation and remove words containing numbers.'''\n",
    "    text = text.lower()\n",
    "    text = re.sub('\\[.*?\\]', '', text)\n",
    "    text = re.sub('[%s]' % re.escape(string.punctuation), '', text)\n",
    "    text = re.sub('\\w*\\d\\w*', '', text)\n",
    "    return text\n",
    "\n",
    "round1 = lambda x: clean_text_round1(x)"
   ]
  },
  {
   "cell_type": "code",
   "execution_count": 2,
   "metadata": {
    "ExecuteTime": {
     "end_time": "2021-06-11T16:57:48.116791Z",
     "start_time": "2021-06-11T16:57:48.104272Z"
    }
   },
   "outputs": [],
   "source": [
    "df= pd.read_csv('Survey_Pay_equity.csv')"
   ]
  },
  {
   "cell_type": "code",
   "execution_count": 5,
   "metadata": {
    "ExecuteTime": {
     "end_time": "2021-06-11T17:06:53.119284Z",
     "start_time": "2021-06-11T17:06:53.115677Z"
    }
   },
   "outputs": [],
   "source": [
    "df=df[[\"Survey Questions\",\"What Works\"]]"
   ]
  },
  {
   "cell_type": "code",
   "execution_count": 31,
   "metadata": {
    "ExecuteTime": {
     "end_time": "2021-06-11T17:26:01.556337Z",
     "start_time": "2021-06-11T17:26:01.548978Z"
    }
   },
   "outputs": [],
   "source": [
    "# Let's take a look at the updated text\n",
    "a = pd.DataFrame(df[\"Survey Questions\"].apply(round1))\n",
    "b = pd.DataFrame(df[\"What Works\"].apply(round1))"
   ]
  },
  {
   "cell_type": "code",
   "execution_count": 34,
   "metadata": {
    "ExecuteTime": {
     "end_time": "2021-06-11T17:27:08.443864Z",
     "start_time": "2021-06-11T17:27:08.439618Z"
    }
   },
   "outputs": [],
   "source": [
    "# Apply a second round of cleaning\n",
    "def clean_text_round2(text):\n",
    "    '''Get rid of some additional punctuation and non-sensical text that was missed the first time around.'''\n",
    "    text = re.sub('[‘’“”…]', '', text)\n",
    "    text = re.sub('\\n', '', text)\n",
    "    return text\n",
    "\n",
    "round2 = lambda x: clean_text_round2(x)"
   ]
  },
  {
   "cell_type": "code",
   "execution_count": 35,
   "metadata": {
    "ExecuteTime": {
     "end_time": "2021-06-11T17:27:31.130480Z",
     "start_time": "2021-06-11T17:27:31.123746Z"
    }
   },
   "outputs": [],
   "source": [
    "a = pd.DataFrame(a[\"Survey Questions\"].apply(round2))\n",
    "b = pd.DataFrame(b[\"What Works\"].apply(round2))"
   ]
  },
  {
   "cell_type": "code",
   "execution_count": 42,
   "metadata": {
    "ExecuteTime": {
     "end_time": "2021-06-11T17:47:33.602034Z",
     "start_time": "2021-06-11T17:47:33.596025Z"
    },
    "scrolled": true
   },
   "outputs": [
    {
     "data": {
      "text/plain": [
       "0     does the company have a formal commitment or p...\n",
       "1     does the company communicate its approach to p...\n",
       "2     does the company assess other ﬁnancial beneﬁts...\n",
       "3     does the company have a process to identify an...\n",
       "4     for a company that oﬀers an employee stock opt...\n",
       "5     are jobs fully and fairly described and workva...\n",
       "6     does the company conduct pay equity analysis u...\n",
       "7     does the company have clear criteria for rewar...\n",
       "8     for the company that oﬀers employee stock opti...\n",
       "9     does the company have speciﬁc policies and pra...\n",
       "10    does the company encourage collective bargaini...\n",
       "11    do employees have access to collective bargain...\n",
       "12    does the company undertake an objective gender...\n",
       "13    does the company have procedures in place to r...\n",
       "14    does the company report its progress and targe...\n",
       "15    does the company publicly report its gender wa...\n",
       "16    is there a compensation committee and is it ge...\n",
       "dtype: object"
      ]
     },
     "execution_count": 42,
     "metadata": {},
     "output_type": "execute_result"
    }
   ],
   "source": [
    "a[\"Survey Questions\"]+b[\"What Works\"]"
   ]
  },
  {
   "cell_type": "code",
   "execution_count": 40,
   "metadata": {
    "ExecuteTime": {
     "end_time": "2021-06-11T17:45:28.875153Z",
     "start_time": "2021-06-11T17:45:28.868554Z"
    }
   },
   "outputs": [
    {
     "data": {
      "text/plain": [
       "0     does the company have a formal commitment or p...\n",
       "1     does the company communicate its approach to p...\n",
       "2     does the company assess other ﬁnancial beneﬁts...\n",
       "3     does the company have a process to identify an...\n",
       "4     for a company that oﬀers an employee stock opt...\n",
       "5     are jobs fully and fairly described and workva...\n",
       "6     does the company conduct pay equity analysis u...\n",
       "7     does the company have clear criteria for rewar...\n",
       "8     for the company that oﬀers employee stock opti...\n",
       "9     does the company have speciﬁc policies and pra...\n",
       "10    does the company encourage collective bargaini...\n",
       "11    do employees have access to collective bargain...\n",
       "12    does the company undertake an objective gender...\n",
       "13    does the company have procedures in place to r...\n",
       "14    does the company report its progress and targe...\n",
       "15    does the company publicly report its gender wa...\n",
       "16    is there a compensation committee and is it ge...\n",
       "Name: clean_text, dtype: object"
      ]
     },
     "execution_count": 40,
     "metadata": {},
     "output_type": "execute_result"
    }
   ],
   "source": [
    "df.clean_text"
   ]
  },
  {
   "cell_type": "code",
   "execution_count": 12,
   "metadata": {
    "ExecuteTime": {
     "end_time": "2021-06-11T17:09:22.379870Z",
     "start_time": "2021-06-11T17:09:22.376126Z"
    }
   },
   "outputs": [],
   "source": [
    "a=[i for i in df[\"Survey Questions\"]]"
   ]
  },
  {
   "cell_type": "code",
   "execution_count": 13,
   "metadata": {
    "ExecuteTime": {
     "end_time": "2021-06-11T17:20:57.332019Z",
     "start_time": "2021-06-11T17:20:57.327617Z"
    }
   },
   "outputs": [],
   "source": [
    "b=[i for i in df[\"What Works\"]]"
   ]
  },
  {
   "cell_type": "code",
   "execution_count": 43,
   "metadata": {
    "ExecuteTime": {
     "end_time": "2021-06-11T17:47:42.062940Z",
     "start_time": "2021-06-11T17:47:42.058279Z"
    }
   },
   "outputs": [
    {
     "data": {
      "text/plain": [
       "17"
      ]
     },
     "execution_count": 43,
     "metadata": {},
     "output_type": "execute_result"
    }
   ],
   "source": [
    "len(b)"
   ]
  },
  {
   "cell_type": "code",
   "execution_count": 18,
   "metadata": {
    "ExecuteTime": {
     "end_time": "2021-06-11T17:22:33.968451Z",
     "start_time": "2021-06-11T17:22:33.965219Z"
    }
   },
   "outputs": [],
   "source": [
    "a=[i for i in a]"
   ]
  },
  {
   "cell_type": "code",
   "execution_count": 23,
   "metadata": {
    "ExecuteTime": {
     "end_time": "2021-06-11T17:22:55.244126Z",
     "start_time": "2021-06-11T17:22:55.239584Z"
    }
   },
   "outputs": [
    {
     "data": {
      "text/plain": [
       "'Does the company undertake an objective gender pay gap audit or evaluation by internal or external parties at least every ﬁve years to ensure jobs of equal value are remunerated equally?'"
      ]
     },
     "execution_count": 23,
     "metadata": {},
     "output_type": "execute_result"
    }
   ],
   "source": [
    "a[12]"
   ]
  },
  {
   "cell_type": "code",
   "execution_count": 26,
   "metadata": {
    "ExecuteTime": {
     "end_time": "2021-06-11T17:23:52.601482Z",
     "start_time": "2021-06-11T17:23:52.596522Z"
    }
   },
   "outputs": [
    {
     "data": {
      "text/plain": [
       "<function __main__.<lambda>(x)>"
      ]
     },
     "execution_count": 26,
     "metadata": {},
     "output_type": "execute_result"
    }
   ],
   "source": [
    "round1"
   ]
  },
  {
   "cell_type": "code",
   "execution_count": null,
   "metadata": {},
   "outputs": [],
   "source": []
  }
 ],
 "metadata": {
  "kernelspec": {
   "display_name": "Python 3",
   "language": "python",
   "name": "python3"
  },
  "language_info": {
   "codemirror_mode": {
    "name": "ipython",
    "version": 3
   },
   "file_extension": ".py",
   "mimetype": "text/x-python",
   "name": "python",
   "nbconvert_exporter": "python",
   "pygments_lexer": "ipython3",
   "version": "3.8.3"
  }
 },
 "nbformat": 4,
 "nbformat_minor": 4
}
